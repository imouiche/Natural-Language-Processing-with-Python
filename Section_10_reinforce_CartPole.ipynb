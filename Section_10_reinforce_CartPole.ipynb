{
 "cells": [
  {
   "cell_type": "markdown",
   "metadata": {
    "pycharm": {
     "name": "#%%\n"
    }
   },
   "source": [
    "<div style=\"text-align:center\">\n",
    "    <h1>\n",
    "        REINFORCE\n",
    "    </h1>\n",
    "</div>\n",
    "\n",
    "<br><br>\n",
    "\n",
    "<div style=\"text-align:center\">\n",
    "In this notebook we are going to implement the Monte Carlo version of Policy Gradient methods. The REINFORCE algorithm uses the full return to update the policy:\n",
    "</div>\n",
    "\n",
    "\\begin{equation}\n",
    "G_t = R_{t+1} + \\gamma R_{t+2} + \\gamma^2 R_{t+1} + \\cdots + \\gamma^{T-t-1} R_{T}\n",
    "\\end{equation}\n",
    "\n",
    "\n",
    "<br><br>\n",
    "<div style=\"text-align:center\">\n",
    "    <b>This notebook belongs to section 10 of the course \"Reinforcement Learning: beginner to master\".</b>\n",
    "    <br><br>\n",
    "    <a href=\"https://www.udemy.com\">Reinforcement Learning: beginner to master</a> (English)\n",
    "    <br>\n",
    "    <a href=\"https://www.udemy.com\">Reinforcement Learning: de principiante a maestro</a> (Spanish)\n",
    "</div>\n",
    "\n",
    "<br>\n",
    "\n",
    "<table style=\"width:35%\">\n",
    "  <tr style=\"background-color: transparent\">\n",
    "    <td style=\"width: 45%\">\n",
    "        <a target=\"_parent\" href=\"https://www.evlabs.io\" style=\"float: center\">\n",
    "            <img src=\"img/evlabs-square.png\" width=\"75\"/>\n",
    "        </a> \n",
    "    </td>\n",
    "    <td valign=\"bottom\">\n",
    "        <a target=\"_parent\" href=\"https://www.youtube.com/channel/UCksRNSzWuMV5IfdrPlglqqw\">\n",
    "            <img src=\"img/YouTube.png\" width=\"35\"/>\n",
    "        </a> \n",
    "    </td>\n",
    "    <td>\n",
    "        <a target=\"_parent\" href=\"https://www.linkedin.com/company/evlabs\">\n",
    "            <img src=\"img/LinkedIn.png\" width=\"35\"/>\n",
    "        </a> \n",
    "    </td>\n",
    "    <td>\n",
    "        <a target=\"_parent\" href=\"https://twitter.com/evelabs\">\n",
    "            <img src=\"img/Twitter.png\" width=\"35\"/>\n",
    "        </a> \n",
    "    </td>\n",
    "    <td>\n",
    "        <a target=\"_parent\" href=\"https://github.com/escape-velocity-labs/\">\n",
    "            <img src=\"img/GitHub.png\" width=\"35\"/>\n",
    "        </a> \n",
    "    </td>\n",
    "\n",
    "  </tr>\n",
    "  <tr style=\"background-color: transparent\">\n",
    "    <th style=\"text-align: center; width: 70%\">Escape Velocity Labs</th>\n",
    "  </tr>\n",
    "\n",
    "</table>\n",
    "\n",
    "<br>"
   ]
  },
  {
   "cell_type": "markdown",
   "metadata": {},
   "source": [
    "## Import the necessary software libraries:"
   ]
  },
  {
   "cell_type": "code",
   "execution_count": null,
   "metadata": {},
   "outputs": [],
   "source": [
    "%%latex\n",
    "$\\textbf{Import the necessary Library}$"
   ]
  },
  {
   "cell_type": "code",
   "execution_count": 1,
   "metadata": {},
   "outputs": [],
   "source": [
    "import os\n",
    "import torch\n",
    "import gym\n",
    "import matplotlib.pyplot as plt\n",
    "from tqdm import tqdm\n",
    "from torch import nn as nn\n",
    "from torch.optim import AdamW\n",
    "\n",
    "from utils import test_policy_network, seed_everything, plot_stats, plot_action_probs\n",
    "from parallel_env import ParallelEnv, ParallelWrapper\n",
    "import warnings\n",
    " \n",
    "warnings.filterwarnings(\"ignore\")"
   ]
  },
  {
   "cell_type": "markdown",
   "metadata": {},
   "source": [
    "## Create and preprocess the environment"
   ]
  },
  {
   "cell_type": "markdown",
   "metadata": {},
   "source": [
    "### Create the environment"
   ]
  },
  {
   "cell_type": "code",
   "execution_count": 2,
   "metadata": {},
   "outputs": [],
   "source": [
    "#test_policy_network to test the effectiveness of the policy using NN\n",
    "#ParallelEnv to create several copies of the same task so that the agent interact and learn from all of them at the same time"
   ]
  },
  {
   "cell_type": "code",
   "execution_count": 3,
   "metadata": {},
   "outputs": [
    {
     "data": {
      "text/latex": [
       "$\\textbf{Create the environment and display the observation and action spaces}$\n"
      ],
      "text/plain": [
       "<IPython.core.display.Latex object>"
      ]
     },
     "metadata": {},
     "output_type": "display_data"
    }
   ],
   "source": [
    "%%latex\n",
    "$\\textbf{Create the environment and display the observation and action spaces}$"
   ]
  },
  {
   "cell_type": "code",
   "execution_count": 4,
   "metadata": {},
   "outputs": [],
   "source": [
    "env = gym.make('CartPole-v0')"
   ]
  },
  {
   "cell_type": "code",
   "execution_count": 5,
   "metadata": {},
   "outputs": [
    {
     "name": "stdout",
     "output_type": "stream",
     "text": [
      "State dimensions: 4. Action: 2\n",
      "Sample state: [-0.03666613 -0.00133848  0.007378   -0.02919273]\n"
     ]
    }
   ],
   "source": [
    "#number of dims and number of actions\n",
    "\n",
    "dims = env.observation_space.shape[0]\n",
    "actions = env.action_space.n\n",
    "\n",
    "print(f\"State dimensions: {dims}. Action: {actions}\")\n",
    "print(f\"Sample state: {env.reset()}\")   #[position of cart, velocity of cart, angle of pole, rotation rate of pole]"
   ]
  },
  {
   "cell_type": "code",
   "execution_count": 6,
   "metadata": {},
   "outputs": [
    {
     "ename": "IndentationError",
     "evalue": "unexpected indent (248434255.py, line 5)",
     "output_type": "error",
     "traceback": [
      "\u001b[1;36m  Input \u001b[1;32mIn [6]\u001b[1;36m\u001b[0m\n\u001b[1;33m    The action is a `ndarray` with shape `(1,)` which can take values `{0, 1}` indicating the direction\u001b[0m\n\u001b[1;37m    ^\u001b[0m\n\u001b[1;31mIndentationError\u001b[0m\u001b[1;31m:\u001b[0m unexpected indent\n"
     ]
    }
   ],
   "source": [
    "#we have two actions available: moving the car to the left or moving it to the right\n",
    "\n",
    "\n",
    "### Action Space\n",
    "    The action is a `ndarray` with shape `(1,)` which can take values `{0, 1}` indicating the direction\n",
    "     of the fixed force the cart is pushed with.\n",
    "    | Num | Action                 |\n",
    "    |-----|------------------------|\n",
    "    | 0   | Push cart to the left  |\n",
    "    | 1   | Push cart to the right |\n",
    "    \n",
    "    **Note**: The velocity that is reduced or increased by the applied force is not fixed and it depends on the angle\n",
    "     the pole is pointing. The center of gravity of the pole varies the amount of energy needed to move the cart underneath it\n",
    "    ### Observation Space\n",
    "    The observation is a `ndarray` with shape `(4,)` with the values corresponding to the following positions and velocities:\n",
    "    | Num | Observation           | Min                 | Max               |\n",
    "    |-----|-----------------------|---------------------|-------------------|\n",
    "    | 0   | Cart Position         | -4.8                | 4.8               |\n",
    "    | 1   | Cart Velocity         | -Inf                | Inf               |\n",
    "    | 2   | Pole Angle            | ~ -0.418 rad (-24°) | ~ 0.418 rad (24°) |\n",
    "    | 3   | Pole Angular Velocity | -Inf                | Inf               | "
   ]
  },
  {
   "cell_type": "code",
   "execution_count": 7,
   "metadata": {},
   "outputs": [
    {
     "data": {
      "text/latex": [
       "$\\textbf{Show the state of the task}$\n"
      ],
      "text/plain": [
       "<IPython.core.display.Latex object>"
      ]
     },
     "metadata": {},
     "output_type": "display_data"
    }
   ],
   "source": [
    "%%latex\n",
    "$\\textbf{Show the state of the task}$"
   ]
  },
  {
   "cell_type": "code",
   "execution_count": 8,
   "metadata": {
    "scrolled": true
   },
   "outputs": [
    {
     "data": {
      "text/plain": [
       "<matplotlib.image.AxesImage at 0x23450c50ee0>"
      ]
     },
     "execution_count": 8,
     "metadata": {},
     "output_type": "execute_result"
    },
    {
     "data": {
      "image/png": "[encoded data removed]",
      "text/plain": [
       "<Figure size 432x288 with 1 Axes>"
      ]
     },
     "metadata": {
      "needs_background": "light"
     },
     "output_type": "display_data"
    }
   ],
   "source": [
    "plt.imshow(env.render(mode='rgb_array'))"
   ]
  },
  {
   "cell_type": "code",
   "execution_count": 9,
   "metadata": {},
   "outputs": [],
   "source": [
    "#we control the black car and we need to keep the pole upright\n",
    "#create parallel env to allow the agent to sample experience and learn from all of them at the same time\n",
    "#the number of env we can create depend on the number of CPU we have in our computer ie 8 core processors = 8 envs\n",
    "\n",
    "#seed_everything make sure that everytime we run this notebook, we get the same result\n",
    "#ParallelEnv to create isolate processes and inside each process, it create a copy of the env"
   ]
  },
  {
   "cell_type": "markdown",
   "metadata": {},
   "source": [
    "### Parallelize the environment"
   ]
  },
  {
   "cell_type": "code",
   "execution_count": 10,
   "metadata": {},
   "outputs": [
    {
     "data": {
      "text/latex": [
       "$\\textbf{Parallel Learning: Parallelize the environment}$\n",
       "Since we are using a single computer, the number of environment we can create depends on the number of CPU or core processors we have.\n",
       "In our case, we can create up to 8 environments. The module ParallelEnv we imported allows us to create isolate processes and inside each process, \n",
       "it creates a copy of the environment.\n"
      ],
      "text/plain": [
       "<IPython.core.display.Latex object>"
      ]
     },
     "metadata": {},
     "output_type": "display_data"
    }
   ],
   "source": [
    "%%latex\n",
    "$\\textbf{Parallel Learning: Parallelize the environment}$\n",
    "Since we are using a single computer, the number of environment we can create depends on the number of CPU or \n",
    "core processors we have.In our case, we can create up to 8 environments. The module ParallelEnv we imported \n",
    "allows us to create isolate processes and inside each process, it creates a copy of the environment."
   ]
  },
  {
   "cell_type": "code",
   "execution_count": 11,
   "metadata": {},
   "outputs": [
    {
     "data": {
      "text/plain": [
       "8"
      ]
     },
     "execution_count": 11,
     "metadata": {},
     "output_type": "execute_result"
    }
   ],
   "source": [
    "num_envs = os.cpu_count()\n",
    "num_envs"
   ]
  },
  {
   "cell_type": "code",
   "execution_count": 12,
   "metadata": {},
   "outputs": [],
   "source": [
    "#num_envs = 4\n",
    "def create_env(env_name, seed):\n",
    "    env= gym.make(env_name)\n",
    "    seed_everything(env, seed=seed) # to makse sure each time we run this notebook we get the same result\n",
    "    return env"
   ]
  },
  {
   "cell_type": "code",
   "execution_count": 13,
   "metadata": {},
   "outputs": [
    {
     "data": {
      "text/plain": [
       "array([[-0.0224773 ,  0.04186813, -0.01038048,  0.03759079],\n",
       "       [-0.0224773 ,  0.04186813, -0.01038048,  0.03759079],\n",
       "       [-0.0224773 ,  0.04186813, -0.01038048,  0.03759079],\n",
       "       [-0.0224773 ,  0.04186813, -0.01038048,  0.03759079],\n",
       "       [-0.0224773 ,  0.04186813, -0.01038048,  0.03759079],\n",
       "       [-0.0224773 ,  0.04186813, -0.01038048,  0.03759079],\n",
       "       [-0.0224773 ,  0.04186813, -0.01038048,  0.03759079],\n",
       "       [-0.0224773 ,  0.04186813, -0.01038048,  0.03759079]],\n",
       "      dtype=float32)"
      ]
     },
     "execution_count": 13,
     "metadata": {},
     "output_type": "execute_result"
    }
   ],
   "source": [
    "env_fns =[lambda: create_env('CartPole-v0', rank) for rank in range(num_envs)]\n",
    "#[fn, fn, fn]\n",
    "parallel_env = ParallelEnv(env_fns) \n",
    "parallel_env.reset()"
   ]
  },
  {
   "cell_type": "code",
   "execution_count": 14,
   "metadata": {},
   "outputs": [],
   "source": [
    "#size of the observations from the parallel env\n",
    "\n",
    "\n"
   ]
  },
  {
   "cell_type": "code",
   "execution_count": 15,
   "metadata": {},
   "outputs": [],
   "source": [
    "# Each of the envs generate a state with 4 dims: [position of cart, velocity of cart, angle of pole, rotation rate of pole]\n",
    "# Each state from the parallel environment will contain 8 rows of states"
   ]
  },
  {
   "cell_type": "markdown",
   "metadata": {},
   "source": [
    "### Prepare the environment to work with PyTorch"
   ]
  },
  {
   "cell_type": "code",
   "execution_count": 16,
   "metadata": {},
   "outputs": [
    {
     "data": {
      "text/latex": [
       "$\\textbf{Prepare the environment to work with PyTorch using ParallelWrapper}$\n"
      ],
      "text/plain": [
       "<IPython.core.display.Latex object>"
      ]
     },
     "metadata": {},
     "output_type": "display_data"
    }
   ],
   "source": [
    "%%latex\n",
    "$\\textbf{Prepare the environment to work with PyTorch using ParallelWrapper}$"
   ]
  },
  {
   "cell_type": "code",
   "execution_count": 17,
   "metadata": {},
   "outputs": [],
   "source": [
    "#prepare the parallel env to work with Pytorch library\n",
    "\n",
    "class PreprocessEnv(ParallelWrapper): #This class will inherit from the ParallelWrapper\n",
    "    \n",
    "    def __init__(self, parallel_env):\n",
    "        ParallelWrapper.__init__(self, parallel_env)\n",
    "        \n",
    "    #reset override\n",
    "    def reset(self):\n",
    "        state =  self.venv.reset() # reset the para env and fectching the initial observation\n",
    "            # venv is the para env stored in ParallelWrapper\n",
    "        return torch.from_numpy(state).float() #convert into numpy tensor\n",
    "        \n",
    "        \n",
    "    #step_async will take care of executing the actions taken by the agent in each of the envs\n",
    "    def step_async(self, actions):\n",
    "#             [[3],\n",
    "#             [2],\n",
    "#             [1]] -> convert to [3, 2, 1] using squeeze() and numpy()\n",
    "        actions = actions.squeeze().numpy() \n",
    "        self.venv.step_async(actions)\n",
    "        \n",
    "    #step_wait method will wait and bloack the execution until each of the env has processed the actions to collect \n",
    "    # the rewards archived, the next state and all the variables that the agent needs to work with\n",
    "    def step_wait(self):\n",
    "        next_state, reward, done, info  = self.venv.step_wait()\n",
    "        next_state = torch.from_numpy(next_state).float()\n",
    "        reward =  torch.tensor(reward).unsqueeze(1).float()\n",
    "        done = torch.tensor(done).unsqueeze(1) #[False, True, False..], then conver into a col vector with unsqueeze(1)\n",
    "        return next_state, reward, done, info\n"
   ]
  },
  {
   "cell_type": "code",
   "execution_count": 18,
   "metadata": {},
   "outputs": [],
   "source": [
    "parallel_env = PreprocessEnv(parallel_env) #ready to work with Pytorch"
   ]
  },
  {
   "cell_type": "code",
   "execution_count": 19,
   "metadata": {},
   "outputs": [
    {
     "data": {
      "text/latex": [
       "$\\textbf{A look at the state, reward and done variables after being processed by our env wrapper}$\n"
      ],
      "text/plain": [
       "<IPython.core.display.Latex object>"
      ]
     },
     "metadata": {},
     "output_type": "display_data"
    }
   ],
   "source": [
    "%%latex\n",
    "$\\textbf{A look at the state, reward and done variables after being processed by our env wrapper}$"
   ]
  },
  {
   "cell_type": "code",
   "execution_count": 20,
   "metadata": {
    "scrolled": true
   },
   "outputs": [
    {
     "name": "stdout",
     "output_type": "stream",
     "text": [
      "State: tensor([[-0.0008,  0.0129,  0.0031, -0.0229],\n",
      "        [-0.0008,  0.0129,  0.0031, -0.0229],\n",
      "        [-0.0008,  0.0129,  0.0031, -0.0229],\n",
      "        [-0.0008,  0.0129,  0.0031, -0.0229],\n",
      "        [-0.0008,  0.0129,  0.0031, -0.0229],\n",
      "        [-0.0008,  0.0129,  0.0031, -0.0229],\n",
      "        [-0.0008,  0.0129,  0.0031, -0.0229],\n",
      "        [-0.0008,  0.0129,  0.0031, -0.0229]]), Reward: tensor([[1.],\n",
      "        [1.],\n",
      "        [1.],\n",
      "        [1.],\n",
      "        [1.],\n",
      "        [1.],\n",
      "        [1.],\n",
      "        [1.]]), Done: tensor([[False],\n",
      "        [False],\n",
      "        [False],\n",
      "        [False],\n",
      "        [False],\n",
      "        [False],\n",
      "        [False],\n",
      "        [False]])\n"
     ]
    }
   ],
   "source": [
    "state = parallel_env.reset()\n",
    "#torch.zeros(num_envs, 1, dtype=torch.int32 = example of column vector of actions that the agent will take\n",
    "_, reward, done, _ = parallel_env.step(torch.zeros(num_envs, 1, dtype=torch.int32))\n",
    "\n",
    "print(f\"State: {state}, Reward: {reward}, Done: {done}\")"
   ]
  },
  {
   "cell_type": "code",
   "execution_count": 21,
   "metadata": {},
   "outputs": [
    {
     "data": {
      "text/latex": [
       "$\\textbf{A look at the state, reward and done variables after being processed by our env wrapper}$\n",
       "\n",
       "#here the policy will be an object we obatin usng Sequential class of NN\n",
       "#we take states as inputs and the NN will apply some operations we saw in ML class in NN to produce the outputs\n",
       "#The output here is the vector with the probabilities of taking each of the actions\n"
      ],
      "text/plain": [
       "<IPython.core.display.Latex object>"
      ]
     },
     "metadata": {},
     "output_type": "display_data"
    }
   ],
   "source": [
    "%%latex\n",
    "$\\textbf{A look at the state, reward and done variables after being processed by our env wrapper}$\n",
    "\n",
    "#here the policy will be an object we obatin usng Sequential class of NN\n",
    "#we take states as inputs and the NN will apply some operations we saw in ML class in NN to produce the outputs\n",
    "#The output here is the vector with the probabilities of taking each of the actions\n"
   ]
  },
  {
   "cell_type": "markdown",
   "metadata": {},
   "source": [
    "### Create the policy $\\pi(s)$ using NN "
   ]
  },
  {
   "cell_type": "code",
   "execution_count": 22,
   "metadata": {},
   "outputs": [],
   "source": [
    "\n",
    "policy = nn.Sequential(\n",
    "    nn.Linear(dims, 128),\n",
    "    nn.ReLU(),\n",
    "    nn.Linear(128, 64), #second layer\n",
    "    nn.ReLU(),\n",
    "    nn.Linear(64, actions), #[-Inf, +Inf]-\n",
    "    nn.Softmax(dim=-1)) #[.3, .2, .5], softmax applied on the last dim(dim=-1)\n",
    "\n",
    "# we choose 128 arbitraly to define the size of the first hidden layer, same as 64 for the second hidden layer\n",
    "# ReLu breaks the linearity from the previous operation"
   ]
  },
  {
   "cell_type": "markdown",
   "metadata": {},
   "source": [
    "### Plot action probabilities"
   ]
  },
  {
   "cell_type": "code",
   "execution_count": 23,
   "metadata": {},
   "outputs": [
    {
     "data": {
      "text/latex": [
       "$\\textbf{Plot action probabilities}$\n"
      ],
      "text/plain": [
       "<IPython.core.display.Latex object>"
      ]
     },
     "metadata": {},
     "output_type": "display_data"
    }
   ],
   "source": [
    "%%latex\n",
    "$\\textbf{Plot action probabilities}$"
   ]
  },
  {
   "cell_type": "code",
   "execution_count": 24,
   "metadata": {},
   "outputs": [],
   "source": [
    "neutral_state = torch.zeros(4) #car at the center, [0, 0, 0, 0]\n",
    "left_danger = torch.tensor([-2.3, 0., 0., 0.]) # car at the left edge of the horizontal axis\n",
    "right_danger = torch.tensor([2.3, 0., 0., 0.])# car located on the right edge of the horizontal axis"
   ]
  },
  {
   "cell_type": "markdown",
   "metadata": {},
   "source": [
    "#### Plot a neutral environment"
   ]
  },
  {
   "cell_type": "code",
   "execution_count": 25,
   "metadata": {},
   "outputs": [
    {
     "data": {
      "text/latex": [
       "$$\\textbf{Plot a neutral environment with NN initialized with random parameters}$$\n",
       "\n",
       "NN initialized with random parameters, so the probs we wll see do not reflect the correct action at the beginning of the process\n",
       "since random probabilities will be assigned.\n"
      ],
      "text/plain": [
       "<IPython.core.display.Latex object>"
      ]
     },
     "metadata": {},
     "output_type": "display_data"
    }
   ],
   "source": [
    "%%latex\n",
    "$$\\textbf{Plot a neutral environment with NN initialized with random parameters}$$\n",
    "\n",
    "NN initialized with random parameters, so the probs we wll see do not reflect the correct action at the beginning of the process\n",
    "since random probabilities will be assigned."
   ]
  },
  {
   "cell_type": "code",
   "execution_count": 26,
   "metadata": {
    "scrolled": true
   },
   "outputs": [
    {
     "data": {
      "image/png": "[encoded data removed]",
      "text/plain": [
       "<Figure size 432x288 with 1 Axes>"
      ]
     },
     "metadata": {
      "needs_background": "light"
     },
     "output_type": "display_data"
    }
   ],
   "source": [
    "probs = policy(neutral_state).detach().numpy()\n",
    "plot_action_probs(probs=probs, labels=['Move Left', 'Move Right'])\n"
   ]
  },
  {
   "cell_type": "code",
   "execution_count": 27,
   "metadata": {},
   "outputs": [],
   "source": [
    "# probability of moving right is slightly higher than the prob of moving left. both are quiet closed as they were generated\n",
    "# by a NN with random parameters"
   ]
  },
  {
   "cell_type": "markdown",
   "metadata": {},
   "source": [
    "#### Plot a state where the cart is too far left"
   ]
  },
  {
   "cell_type": "code",
   "execution_count": 28,
   "metadata": {},
   "outputs": [
    {
     "data": {
      "image/png": "[encoded data removed]",
      "text/plain": [
       "<Figure size 432x288 with 1 Axes>"
      ]
     },
     "metadata": {
      "needs_background": "light"
     },
     "output_type": "display_data"
    }
   ],
   "source": [
    "probs = policy(left_danger).detach().numpy()\n",
    "plot_action_probs(probs=probs, labels=['Move Left', 'Move Right'])"
   ]
  },
  {
   "cell_type": "markdown",
   "metadata": {},
   "source": [
    "#### Plot a state where the cart is too far right"
   ]
  },
  {
   "cell_type": "code",
   "execution_count": 29,
   "metadata": {
    "scrolled": false
   },
   "outputs": [
    {
     "data": {
      "image/png": "[encoded data removed]",
      "text/plain": [
       "<Figure size 432x288 with 1 Axes>"
      ]
     },
     "metadata": {
      "needs_background": "light"
     },
     "output_type": "display_data"
    }
   ],
   "source": [
    "probs = policy(right_danger).detach().numpy()\n",
    "plot_action_probs(probs=probs, labels=['Move Left', 'Move Right'])"
   ]
  },
  {
   "cell_type": "code",
   "execution_count": 30,
   "metadata": {},
   "outputs": [],
   "source": [
    "# they (actions) will still be closed to each other due to random probabilites assigned "
   ]
  },
  {
   "cell_type": "code",
   "execution_count": 31,
   "metadata": {},
   "outputs": [
    {
     "data": {
      "text/latex": [
       "$\\textbf{Reinforce Algorithm}$\n"
      ],
      "text/plain": [
       "<IPython.core.display.Latex object>"
      ]
     },
     "metadata": {},
     "output_type": "display_data"
    }
   ],
   "source": [
    "%%latex\n",
    "$\\textbf{Reinforce Algorithm}$"
   ]
  },
  {
   "attachments": {
    "Screenshot%202021-03-18%20at%2017.57.13.png": {
     "image/png": "[encoded data removed]"
    }
   },
   "cell_type": "markdown",
   "metadata": {},
   "source": [
    "## Implement the algorithm\n",
    "\n",
    "</br></br>\n",
    "\n",
    "\n",
    "![Screenshot%202021-03-18%20at%2017.57.13.png](attachment:Screenshot%202021-03-18%20at%2017.57.13.png)"
   ]
  },
  {
   "cell_type": "code",
   "execution_count": 32,
   "metadata": {},
   "outputs": [
    {
     "data": {
      "text/latex": [
       "$\\textbf{Implementation of the Reinforce Algorithm}$\n"
      ],
      "text/plain": [
       "<IPython.core.display.Latex object>"
      ]
     },
     "metadata": {},
     "output_type": "display_data"
    }
   ],
   "source": [
    "%%latex\n",
    "$\\textbf{Implementation of the Reinforce Algorithm}$"
   ]
  },
  {
   "cell_type": "code",
   "execution_count": 33,
   "metadata": {},
   "outputs": [],
   "source": [
    "def reinforce(policy, episodes, alpha=1e-4, gamma=.99):\n",
    "    \n",
    "    #AdamW is an improved version of SGD, used to update the parameters of the NN\n",
    "    optim = AdamW(policy.parameters(), lr=alpha)\n",
    "    \n",
    "    #dictionary to store the stats of the execution of the algo\n",
    "    stats = {'Loss':[], 'Returns':[]}\n",
    "    \n",
    "    #wrap tqdm to be able to see the execution of this loop. It tells us the iter already executed & the ones left\n",
    "    for episode in tqdm(range(1, episodes + 1)):\n",
    "        #use NN to face he env and collect sample of expiriences. We'll collect an episode for each env in the parallel env\n",
    "        \n",
    "        state = parallel_env.reset() #initialise the para env\n",
    "        done_b = torch.zeros((num_envs, 1), dtype=torch.bool) # done bacth, boolian value telling us if each of the env\n",
    "               # in the para env has finished the episode or not\n",
    "        \n",
    "        transitions = [] # to store the state transition\n",
    "        ep_return = torch.zeros((num_envs, 1)) #to keep track of the return obtained in each of individual episode that the \n",
    "               # agent is facing in each env of the para env\n",
    "        \n",
    "        #inner loop where will generate the trajectories of experience\n",
    "        \n",
    "        while not done_b.all():\n",
    "            #multinomial(1) to pick a single action for each state\n",
    "            #.detach() to make sure pytorch won't include these variable in the back propagate taht will use to update the NN \n",
    "            action = policy(state).multinomial(1).detach()\n",
    "            next_state, reward, done, _ = parallel_env.step(action)\n",
    "            transitions.append([state, action, ~done_b * reward]) # -done_b * reward to convert into zeros the reward corresp\n",
    "               # to env whose episodes has already finished, ie envs whose done_b is True\n",
    "                \n",
    "            ep_return += reward #update the return\n",
    "            done_b |= done # update env whose ep has finished after this move\n",
    "            state =  next_state\n",
    "        \n",
    "        #Improve the policy\n",
    "        G = torch.zeros((num_envs, 1)) # 1-single col as the return if a single value\n",
    "        \n",
    "        for t, (state_t, action_t, reward_t) in reversed(list(enumerate(transitions))):\n",
    "            G =  reward_t + gamma * G\n",
    "            probs_t = policy(state_t)\n",
    "            log_probs_t = torch.log(probs_t + 1e-6) #avoid computing log of zero by addin 1e-6\n",
    "            action_log_probs_t =  log_probs_t.gather(1, action_t) #only for actions taken at moment t \n",
    "    \n",
    "            entropy_t = -torch.sum(probs_t * log_probs_t, dim=-1, keepdim=True ) #dim=-1 so that the sum is applied independently\n",
    "             # and we get the value of entropy for each individual vector of probs\n",
    "            #keepdim=True so the dim of the tensor remains unchanged\n",
    "            \n",
    "            gamma_t = gamma ** t\n",
    "            \n",
    "            #policy performance\n",
    "            pg_loss_t = -gamma_t * action_log_probs_t * G # - sign because AdamW can only perform gradient descent ie \n",
    "                #in opposite direction of max growth or gradient ascent\n",
    "            total_loss_t = (pg_loss_t - 0.01 * entropy_t).mean()\n",
    "            \n",
    "            # As always when we compute the NN\n",
    "            policy.zero_grad()\n",
    "            total_loss_t.backward() # to launch the back propagation to compute the gradient of the loss function\n",
    "                # with respect to each of the parameters of the NN\n",
    "            \n",
    "            #call AdamW to update the parameters\n",
    "            optim.step()\n",
    "            \n",
    "        #store the execution statistics in the stats dictionary    \n",
    "        stats['Loss'].append(total_loss_t.item()) #item() convert pytorch tensor into scalar no\n",
    "        stats['Returns'].append(ep_return.mean().item())\n",
    "        \n",
    "    return stats\n",
    "            "
   ]
  },
  {
   "cell_type": "code",
   "execution_count": 34,
   "metadata": {
    "scrolled": true
   },
   "outputs": [
    {
     "name": "stderr",
     "output_type": "stream",
     "text": [
      "100%|████████████████████████████████████████████████████████████████████████████████| 200/200 [02:15<00:00,  1.47it/s]\n"
     ]
    }
   ],
   "source": [
    "parallel_env.reset()\n",
    "stats = reinforce(policy, 200)"
   ]
  },
  {
   "cell_type": "markdown",
   "metadata": {},
   "source": [
    "## Show results"
   ]
  },
  {
   "cell_type": "markdown",
   "metadata": {},
   "source": [
    "### Show execution stats"
   ]
  },
  {
   "cell_type": "code",
   "execution_count": null,
   "metadata": {},
   "outputs": [],
   "source": [
    "%%latex\n",
    "$\\textbf{Loss and Retrun functions for 2 parallel learning environments }$"
   ]
  },
  {
   "cell_type": "code",
   "execution_count": 35,
   "metadata": {},
   "outputs": [
    {
     "data": {
      "image/png": "[encoded data removed]",
      "text/plain": [
       "<Figure size 864x432 with 2 Axes>"
      ]
     },
     "metadata": {
      "needs_background": "light"
     },
     "output_type": "display_data"
    }
   ],
   "source": [
    "plot_stats(stats)"
   ]
  },
  {
   "cell_type": "code",
   "execution_count": null,
   "metadata": {},
   "outputs": [],
   "source": [
    "# we see that in the first 60 episodes, the retuns have been improving until reaching their maximum value (200).\n",
    "# And the policy performance has followed a similar trajectory. "
   ]
  },
  {
   "cell_type": "markdown",
   "metadata": {},
   "source": [
    "### Plot action probabilities"
   ]
  },
  {
   "cell_type": "markdown",
   "metadata": {},
   "source": [
    "#### Plot a neutral environment"
   ]
  },
  {
   "cell_type": "code",
   "execution_count": 36,
   "metadata": {
    "scrolled": true
   },
   "outputs": [
    {
     "data": {
      "image/png": "[encoded data removed]",
      "text/plain": [
       "<Figure size 432x288 with 1 Axes>"
      ]
     },
     "metadata": {
      "needs_background": "light"
     },
     "output_type": "display_data"
    }
   ],
   "source": [
    "probs = policy(neutral_state).detach().numpy()\n",
    "plot_action_probs(probs=probs, labels=['Move Left', 'Move Right'])"
   ]
  },
  {
   "cell_type": "code",
   "execution_count": 37,
   "metadata": {},
   "outputs": [],
   "source": [
    "#The policy assigns a slightly higher probability of moving left, but in general, both actions have a very similar probability."
   ]
  },
  {
   "cell_type": "markdown",
   "metadata": {},
   "source": [
    "#### Plot a state where the cart is too far left"
   ]
  },
  {
   "cell_type": "code",
   "execution_count": 38,
   "metadata": {},
   "outputs": [
    {
     "data": {
      "image/png": "[encoded data removed]",
      "text/plain": [
       "<Figure size 432x288 with 1 Axes>"
      ]
     },
     "metadata": {
      "needs_background": "light"
     },
     "output_type": "display_data"
    }
   ],
   "source": [
    "probs = policy(left_danger).detach().numpy()\n",
    "plot_action_probs(probs=probs, labels=['Move Left', 'Move Right'])"
   ]
  },
  {
   "cell_type": "code",
   "execution_count": 39,
   "metadata": {},
   "outputs": [],
   "source": [
    "# When there's danger. To the left. Our policy assigns a much higher probability for us to move, right?\n",
    "# And when the danger is on the right, the policy prescribes. Moving to the left. \n",
    "#Note that the probability of moving to the right is not zero.\n",
    "#That is the effect of using the entropy as a means of regularizing the learning process.\n",
    "\n",
    "#Since we are trying to maximize the entropy, we are favoring that the policy never gets to pick an action \n",
    "#100 percent of the time. And that allows us to keep the exploration of the accent for a longer time."
   ]
  },
  {
   "cell_type": "markdown",
   "metadata": {},
   "source": [
    "#### Plot a state where the cart is too far right"
   ]
  },
  {
   "cell_type": "code",
   "execution_count": 40,
   "metadata": {},
   "outputs": [
    {
     "data": {
      "image/png": "[encoded data removed]",
      "text/plain": [
       "<Figure size 432x288 with 1 Axes>"
      ]
     },
     "metadata": {
      "needs_background": "light"
     },
     "output_type": "display_data"
    }
   ],
   "source": [
    "probs = policy(right_danger).detach().numpy()\n",
    "plot_action_probs(probs=probs, labels=['Left', 'Right'])"
   ]
  },
  {
   "cell_type": "markdown",
   "metadata": {},
   "source": [
    "### Test the resulting agent"
   ]
  },
  {
   "cell_type": "code",
   "execution_count": 41,
   "metadata": {},
   "outputs": [
    {
     "data": {
      "image/png": "[encoded data removed]",
      "text/plain": [
       "<Figure size 432x432 with 1 Axes>"
      ]
     },
     "metadata": {
      "needs_background": "light"
     },
     "output_type": "display_data"
    }
   ],
   "source": [
    "test_policy_network(env, policy, episodes=5)"
   ]
  },
  {
   "cell_type": "code",
   "execution_count": null,
   "metadata": {},
   "outputs": [],
   "source": [
    "# We can see that the policy is capable of solving the task, it is capable of keeping the pole upright."
   ]
  },
  {
   "cell_type": "markdown",
   "metadata": {},
   "source": [
    "## Resources"
   ]
  },
  {
   "cell_type": "markdown",
   "metadata": {},
   "source": [
    "[[1] Reinforcement Learning: An Introduction. Ch.13](https://web.stanford.edu/class/psych209/Readings/SuttonBartoIPRLBook2ndEd.pdf)"
   ]
  }
 ],
 "metadata": {
  "kernelspec": {
   "display_name": "Python 3 (ipykernel)",
   "language": "python",
   "name": "python3"
  },
  "language_info": {
   "codemirror_mode": {
    "name": "ipython",
    "version": 3
   },
   "file_extension": ".py",
   "mimetype": "text/x-python",
   "name": "python",
   "nbconvert_exporter": "python",
   "pygments_lexer": "ipython3",
   "version": "3.8.0"
  }
 },
 "nbformat": 4,
 "nbformat_minor": 1
}
